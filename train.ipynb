{
  "nbformat": 4,
  "nbformat_minor": 0,
  "metadata": {
    "colab": {
      "name": "train.ipynb",
      "provenance": [],
      "mount_file_id": "1wWZ2RPLFe-7j8yAe3px_LxBF_FeEfZPu",
      "authorship_tag": "ABX9TyPBa+Y83PXmGk7nWD/7AZU5",
      "include_colab_link": true
    },
    "kernelspec": {
      "name": "python3",
      "display_name": "Python 3"
    },
    "language_info": {
      "name": "python"
    }
  },
  "cells": [
    {
      "cell_type": "markdown",
      "metadata": {
        "id": "view-in-github",
        "colab_type": "text"
      },
      "source": [
        "<a href=\"https://colab.research.google.com/github/Hawawou/bach_pro/blob/main/train.ipynb\" target=\"_parent\"><img src=\"https://colab.research.google.com/assets/colab-badge.svg\" alt=\"Open In Colab\"/></a>"
      ]
    },
    {
      "cell_type": "code",
      "execution_count": 16,
      "metadata": {
        "id": "ZVSU6dQ-fYcq"
      },
      "outputs": [],
      "source": [
        "import pandas as pd\n",
        "import numpy as np\n",
        "from nltk.corpus import stopwords\n",
        "from nltk.tokenize import TweetTokenizer\n",
        "import re\n",
        "\n",
        "from sklearn.feature_extraction.text import TfidfVectorizer, CountVectorizer\n",
        "from sklearn.linear_model import LogisticRegression\n",
        "from sklearn.semi_supervised import LabelSpreading\n",
        "from sklearn.svm import SVC\n",
        "from sklearn.model_selection import train_test_split, StratifiedKFold, cross_val_score\n",
        "from sklearn.pipeline import make_pipeline, Pipeline\n",
        "from sklearn.model_selection import GridSearchCV\n",
        "from sklearn.metrics import classification_report, make_scorer, accuracy_score, f1_score\n",
        "from sklearn.metrics import roc_curve, auc\n",
        "from sklearn.metrics import confusion_matrix, roc_auc_score, recall_score, precision_score\n",
        "import time\n",
        "from sklearn import svm\n",
        "\n"
      ]
    },
    {
      "cell_type": "code",
      "source": [
        "cols_list = [\"Polarity\", \"Text\"]\n",
        "data = pd.read_csv(r'/data.csv', usecols = cols_list)\n"
      ],
      "metadata": {
        "id": "UprrX80bhNch"
      },
      "execution_count": null,
      "outputs": []
    },
    {
      "cell_type": "code",
      "source": [
        "tknzr = TweetTokenizer()\n",
        "\n",
        "def clean_tweet(tweet):\n",
        "    if type(tweet) == float:\n",
        "        return \"\"\n",
        "    temp = tweet.lower()\n",
        "    temp = re.sub(\"'\", \"\", temp)  # to avoid removing contractions in english\n",
        "    temp = re.sub(\"@[A-Za-z0-9_]+\", \"\", temp)  # remove mentions\n",
        "    temp = re.sub(\"#[A-Za-z0-9_]+\", \"\", temp)  # remove hashtags\n",
        "    temp = re.sub(r'http\\S+', '', temp)  # remove urls\n",
        "    temp = re.sub('[()!?]', ' ', temp)  # remove special characters\n",
        "    temp = re.sub('\\[.*?\\]', ' ', temp)\n",
        "    temp = re.sub(\"[^a-z0-9]\", \" \", temp)  # convert all to lower case\n",
        "    temp = temp.split()\n",
        "    temp = [w for w in temp if not w in stopwords.words('english')]\n",
        "    # temp = [stemmer.stem(word) for word in analyzer(tweet)]\n",
        "    temp = \" \".join(word for word in temp)\n",
        "    # temp = tknzr.tokenize(temp)\n",
        "    return temp\n",
        "data['Text'] = data['Text'].apply(clean_tweet) "
      ],
      "metadata": {
        "id": "XoY0L7jaitXG"
      },
      "execution_count": null,
      "outputs": []
    },
    {
      "cell_type": "code",
      "source": [
        "data['Polarity'] = data['Polarity'].apply(lambda x: 'positive' if x == 4 else 'negative')"
      ],
      "metadata": {
        "id": "OwHSettXj8hA"
      },
      "execution_count": 13,
      "outputs": []
    },
    {
      "cell_type": "code",
      "source": [
        "data = data.loc[:, ['Text', 'Polarity']]\n"
      ],
      "metadata": {
        "id": "5rB_Zn1rmxlB"
      },
      "execution_count": null,
      "outputs": []
    },
    {
      "cell_type": "code",
      "source": [
        "train, test = train_test_split(data, test_size=0.2, random_state=1)\n",
        "X_train = train['Text'].values\n",
        "X_test = test['Text'].values\n",
        "y_train = train['Polarity']\n",
        "y_test = test['Polarity']"
      ],
      "metadata": {
        "id": "23GnYUx5m5ci"
      },
      "execution_count": 17,
      "outputs": []
    },
    {
      "cell_type": "code",
      "source": [
        "vectorizer = TfidfVectorizer(min_df=5,\n",
        "                             max_df=0.8,\n",
        "                             sublinear_tf=True,\n",
        "                             use_idf=True)\n",
        "\n",
        "train_vectors = vectorizer.fit_transform(train['Text'])\n",
        "test_vectors = vectorizer.transform(test['Text'])"
      ],
      "metadata": {
        "id": "fokTv3BinUiv"
      },
      "execution_count": 19,
      "outputs": []
    },
    {
      "cell_type": "code",
      "source": [
        "kfolds = StratifiedKFold(n_splits=5, shuffle=True, random_state=1)\n",
        "np.random.seed(1)\n",
        "\n",
        "pipeline_svm = make_pipeline(vectorizer, \n",
        "                            SVC(probability=True, kernel=\"linear\", class_weight=\"balanced\"))\n",
        "\n",
        "grid_svm = GridSearchCV(pipeline_svm,\n",
        "                    param_grid = {'svc__C': [0.01, 0.1, 1]}, \n",
        "                    cv = kfolds,\n",
        "                    scoring=\"roc_auc\",\n",
        "                    verbose=1,   \n",
        "                    n_jobs=-1) \n",
        "\n",
        "grid_svm.fit(X_train, y_train)\n",
        "grid_svm.score(X_test, y_test)"
      ],
      "metadata": {
        "colab": {
          "base_uri": "https://localhost:8080/"
        },
        "id": "N9ohl7-cnhhr",
        "outputId": "82b93dc8-fb16-47b1-bacf-1a86b16cbc12"
      },
      "execution_count": 21,
      "outputs": [
        {
          "output_type": "stream",
          "name": "stdout",
          "text": [
            "Fitting 5 folds for each of 3 candidates, totalling 15 fits\n"
          ]
        },
        {
          "output_type": "execute_result",
          "data": {
            "text/plain": [
              "0.8245220392823867"
            ]
          },
          "metadata": {},
          "execution_count": 21
        }
      ]
    },
    {
      "cell_type": "code",
      "source": [
        "grid_svm.best_params_"
      ],
      "metadata": {
        "colab": {
          "base_uri": "https://localhost:8080/"
        },
        "id": "gqhB3CdmnuH2",
        "outputId": "245270e1-6dd1-47fc-98b0-70e3b21e4103"
      },
      "execution_count": 22,
      "outputs": [
        {
          "output_type": "execute_result",
          "data": {
            "text/plain": [
              "{'svc__C': 1}"
            ]
          },
          "metadata": {},
          "execution_count": 22
        }
      ]
    },
    {
      "cell_type": "code",
      "source": [
        "grid_svm.best_score_"
      ],
      "metadata": {
        "colab": {
          "base_uri": "https://localhost:8080/"
        },
        "id": "yqGrxe4Ctqzj",
        "outputId": "55238cd1-1a8c-4083-8900-a6f05ccc2dbe"
      },
      "execution_count": 23,
      "outputs": [
        {
          "output_type": "execute_result",
          "data": {
            "text/plain": [
              "0.8194288569286762"
            ]
          },
          "metadata": {},
          "execution_count": 23
        }
      ]
    },
    {
      "cell_type": "code",
      "source": [
        "def report_results(model, X, y):\n",
        "    pred_proba = model.predict_proba(X)[:, 1]\n",
        "    pred = model.predict(X)        \n",
        "\n",
        "    auc = roc_auc_score(y, pred_proba)\n",
        "    acc = accuracy_score(y, pred)\n",
        "    f1 = f1_score(y, pred)\n",
        "    prec = precision_score(y, pred)\n",
        "    rec = recall_score(y, pred)\n",
        "    result = {'auc': auc, 'f1': f1, 'acc': acc, 'precision': prec, 'recall': rec}\n",
        "    return result"
      ],
      "metadata": {
        "id": "R1LJrTFit4Mg"
      },
      "execution_count": 24,
      "outputs": []
    },
    {
      "cell_type": "code",
      "source": [
        ""
      ],
      "metadata": {
        "id": "_Ws4gZcy2BsT"
      },
      "execution_count": null,
      "outputs": []
    }
  ]
}