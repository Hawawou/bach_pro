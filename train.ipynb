{
  "cells": [
    {
      "cell_type": "markdown",
      "metadata": {
        "id": "view-in-github",
        "colab_type": "text"
      },
      "source": [
        "<a href=\"https://colab.research.google.com/github/Hawawou/bach_pro/blob/main/train.ipynb\" target=\"_parent\"><img src=\"https://colab.research.google.com/assets/colab-badge.svg\" alt=\"Open In Colab\"/></a>"
      ]
    },
    {
      "cell_type": "code",
      "execution_count": null,
      "metadata": {
        "colab": {
          "base_uri": "https://localhost:8080/"
        },
        "id": "ZVSU6dQ-fYcq",
        "outputId": "63f72099-9157-4bee-cf23-9c32fe20c267"
      },
      "outputs": [
        {
          "output_type": "stream",
          "name": "stdout",
          "text": [
            "[nltk_data] Downloading package stopwords to /root/nltk_data...\n",
            "[nltk_data]   Package stopwords is already up-to-date!\n"
          ]
        },
        {
          "output_type": "execute_result",
          "data": {
            "text/plain": [
              "True"
            ]
          },
          "metadata": {},
          "execution_count": 9
        }
      ],
      "source": [
        "# Importing necessary libraries\n",
        "import pandas as pd\n",
        "import numpy as np\n",
        "from nltk.corpus import stopwords\n",
        "from nltk.stem import PorterStemmer\n",
        "from nltk.tokenize import TweetTokenizer\n",
        "import re\n",
        "\n",
        "from sklearn.feature_extraction.text import TfidfVectorizer, CountVectorizer\n",
        "from sklearn.svm import SVC\n",
        "from sklearn.model_selection import train_test_split, StratifiedKFold, cross_val_score\n",
        "from sklearn.pipeline import make_pipeline, Pipeline\n",
        "from sklearn.model_selection import GridSearchCV\n",
        "from sklearn.metrics import classification_report, make_scorer, accuracy_score, f1_score\n",
        "from sklearn.metrics import roc_curve, auc\n",
        "from sklearn.metrics import confusion_matrix, roc_auc_score, recall_score, precision_score\n",
        "import time\n",
        "from sklearn import svm\n",
        "\n",
        "import nltk\n",
        "nltk.download('stopwords')"
      ]
    },
    {
      "cell_type": "code",
      "execution_count": null,
      "metadata": {
        "id": "UprrX80bhNch"
      },
      "outputs": [],
      "source": [
        "# Importing dataset\n",
        "cols_list = [\"Polarity\", \"Text\"]\n",
        "data = pd.read_csv(r'/content/drive/MyDrive/data.csv', usecols = cols_list)"
      ]
    },
    {
      "cell_type": "code",
      "execution_count": null,
      "metadata": {
        "id": "6nWP7bCCYiqp",
        "colab": {
          "base_uri": "https://localhost:8080/"
        },
        "outputId": "1e3aa106-9e44-4080-db75-d87a2281d479"
      },
      "outputs": [
        {
          "output_type": "stream",
          "name": "stdout",
          "text": [
            "Mounted at /content/drive\n"
          ]
        }
      ],
      "source": [
        "from google.colab import drive\n",
        "drive.mount('/content/drive')"
      ]
    },
    {
      "cell_type": "code",
      "execution_count": null,
      "metadata": {
        "id": "hOXRBma_6oVj"
      },
      "outputs": [],
      "source": [
        "# Clean and process tweets\n",
        "stemmer = PorterStemmer()\n",
        "\n",
        "def clean_tweet(tweet):\n",
        "    if type(tweet) == float:\n",
        "        return \"\"\n",
        "    temp = tweet.lower()\n",
        "    temp = re.sub(\"'\", \"\", temp)  # to avoid removing contractions in english\n",
        "    temp = re.sub(\"@[A-Za-z0-9_]+\", \"\", temp)  # remove mentions\n",
        "    temp = re.sub(\"#[A-Za-z0-9_]+\", \"\", temp)  # remove hashtags\n",
        "    temp = re.sub(r'http\\S+', '', temp)  # remove urls\n",
        "    temp = re.sub('[()!?]', ' ', temp)  # remove special characters\n",
        "    temp = re.sub('\\[.*?\\]', ' ', temp)\n",
        "    temp = re.sub(\"[^a-z0-9]\", \" \", temp)  # convert all to lower case\n",
        "    temp = temp.split()\n",
        "    temp = [w for w in temp if not w in stopwords.words('english')]\n",
        "    temp = [stemmer.stem(word) for word in tweet]\n",
        "    temp = \" \".join(word for word in temp)\n",
        "    return temp\n",
        "data['Text'] = data['Text'].apply(clean_tweet) \n"
      ]
    },
    {
      "cell_type": "code",
      "execution_count": null,
      "metadata": {
        "id": "OwHSettXj8hA"
      },
      "outputs": [],
      "source": [
        "# Distinguish tweets with positive and negative sentiments\n",
        "data['Polarity'] = data['Polarity'].apply(lambda x: 1 if x == 'positive' else 0)"
      ]
    },
    {
      "cell_type": "code",
      "execution_count": null,
      "metadata": {
        "id": "5rB_Zn1rmxlB"
      },
      "outputs": [],
      "source": [
        "data = data.loc[:, ['Text', 'Polarity']]"
      ]
    },
    {
      "cell_type": "code",
      "source": [
        "# tokenization\n",
        "tknzr = TweetTokenizer()\n",
        "data[\"tokenized\"] = [tknzr.tokenize(i) for i in data['Text']]"
      ],
      "metadata": {
        "id": "0-bl8ARfXVW7"
      },
      "execution_count": null,
      "outputs": []
    },
    {
      "cell_type": "code",
      "execution_count": null,
      "metadata": {
        "id": "23GnYUx5m5ci"
      },
      "outputs": [],
      "source": [
        "# split data into train and test sets\n",
        "train, test = train_test_split(data, test_size=0.2, random_state=1)\n",
        "X_train = train['Text'].values\n",
        "X_test = test['Text'].values\n",
        "y_train = train['Polarity']\n",
        "y_test = test['Polarity']"
      ]
    },
    {
      "cell_type": "code",
      "execution_count": null,
      "metadata": {
        "id": "fokTv3BinUiv"
      },
      "outputs": [],
      "source": [
        "# vectorization\n",
        "vectorizer = TfidfVectorizer(min_df=5,\n",
        "                             max_df=0.8,\n",
        "                             sublinear_tf=True,\n",
        "                             use_idf=True)\n",
        "\n",
        "train_vectors = vectorizer.fit_transform(train['Text'])\n",
        "test_vectors = vectorizer.transform(test['Text'])"
      ]
    },
    {
      "cell_type": "code",
      "execution_count": null,
      "metadata": {
        "id": "Crh9gIcHbG-A"
      },
      "outputs": [],
      "source": [
        "print(train_vectors)"
      ]
    },
    {
      "cell_type": "code",
      "execution_count": null,
      "metadata": {
        "id": "yP7z80vUbIA6"
      },
      "outputs": [],
      "source": [
        "print(test_vectors)"
      ]
    },
    {
      "cell_type": "code",
      "execution_count": null,
      "metadata": {
        "id": "N9ohl7-cnhhr"
      },
      "outputs": [],
      "source": [
        "kfolds = StratifiedKFold(n_splits=5, shuffle=True, random_state=1)\n",
        "np.random.seed(1)\n",
        "\n",
        "pipeline_svm = make_pipeline(vectorizer, \n",
        "                            SVC(probability=True, kernel=\"linear\", class_weight=\"balanced\"))\n",
        "\n",
        "grid_svm = GridSearchCV(pipeline_svm,\n",
        "                    param_grid = {'svc__C': [0.01, 0.1, 1]}, \n",
        "                    cv = kfolds,\n",
        "                    scoring=\"roc_auc\",\n",
        "                    verbose=1,   \n",
        "                    n_jobs=-1) \n",
        "\n",
        "grid_svm.fit(X_train, y_train)\n",
        "grid_svm.score(X_test, y_test)"
      ]
    },
    {
      "cell_type": "code",
      "execution_count": null,
      "metadata": {
        "id": "gqhB3CdmnuH2"
      },
      "outputs": [],
      "source": [
        "grid_svm.best_params_"
      ]
    },
    {
      "cell_type": "code",
      "execution_count": null,
      "metadata": {
        "colab": {
          "base_uri": "https://localhost:8080/"
        },
        "id": "yqGrxe4Ctqzj",
        "outputId": "63646e30-c64b-465d-daac-3147f3ba77f7"
      },
      "outputs": [
        {
          "data": {
            "text/plain": [
              "0.8194288569286762"
            ]
          },
          "execution_count": 17,
          "metadata": {},
          "output_type": "execute_result"
        }
      ],
      "source": [
        "grid_svm.best_score_"
      ]
    },
    {
      "cell_type": "code",
      "execution_count": null,
      "metadata": {
        "id": "R1LJrTFit4Mg"
      },
      "outputs": [],
      "source": [
        "def report_results(model, X, y):\n",
        "    pred_proba = model.predict_proba(X)[:, 1]\n",
        "    pred = model.predict(X)        \n",
        "\n",
        "    auc = roc_auc_score(y, pred_proba)\n",
        "    acc = accuracy_score(y, pred)\n",
        "    f1 = f1_score(y, pred)\n",
        "    prec = precision_score(y, pred)\n",
        "    rec = recall_score(y, pred)\n",
        "    result = {'auc': auc, 'f1': f1, 'acc': acc, 'precision': prec, 'recall': rec}\n",
        "    return result"
      ]
    },
    {
      "cell_type": "code",
      "execution_count": null,
      "metadata": {
        "colab": {
          "base_uri": "https://localhost:8080/"
        },
        "id": "_Ws4gZcy2BsT",
        "outputId": "bc531318-e6dd-4bb8-f731-fe0e0d42968f"
      },
      "outputs": [
        {
          "data": {
            "text/plain": [
              "{'acc': 0.822875,\n",
              " 'auc': 0.8967972033490123,\n",
              " 'f1': 0.8250617283950618,\n",
              " 'precision': 0.8105518496058217,\n",
              " 'recall': 0.840100565681961}"
            ]
          },
          "execution_count": 19,
          "metadata": {},
          "output_type": "execute_result"
        }
      ],
      "source": [
        "report_results(grid_svm.best_estimator_, X_train, y_train)"
      ]
    },
    {
      "cell_type": "code",
      "execution_count": null,
      "metadata": {
        "colab": {
          "base_uri": "https://localhost:8080/"
        },
        "id": "Z_v10OJ34-pU",
        "outputId": "5ea1fe67-ebcb-421c-e2df-0e522eb7929f"
      },
      "outputs": [
        {
          "data": {
            "text/plain": [
              "{'acc': 0.75075,\n",
              " 'auc': 0.8245222894090133,\n",
              " 'f1': 0.7623361144219308,\n",
              " 'precision': 0.7437209302325581,\n",
              " 'recall': 0.7819070904645476}"
            ]
          },
          "execution_count": 20,
          "metadata": {},
          "output_type": "execute_result"
        }
      ],
      "source": [
        "report_results(grid_svm.best_estimator_, X_test, y_test)"
      ]
    },
    {
      "cell_type": "code",
      "execution_count": null,
      "metadata": {
        "id": "0Cn7zcKdhpEy"
      },
      "outputs": [],
      "source": [
        "def get_roc_curve(model, X, y):\n",
        "  pred_proba = model.predict_proba(X)[:, 1]\n",
        "  fpr, tpr, _ = roc_curve(y, pred_proba)\n",
        "  return fpr, tpr"
      ]
    },
    {
      "cell_type": "code",
      "execution_count": null,
      "metadata": {
        "id": "4xLdMU5DiQGS"
      },
      "outputs": [],
      "source": [
        "roc_svm = get_roc_curve(grid_svm.best_estimator_, X_test, y_test)"
      ]
    },
    {
      "cell_type": "code",
      "execution_count": null,
      "metadata": {
        "colab": {
          "base_uri": "https://localhost:8080/",
          "height": 513
        },
        "id": "VVHTZHTsi3N1",
        "outputId": "26daa321-e85d-4561-e4d7-662d1472629b"
      },
      "outputs": [
        {
          "data": {
            "image/png": "[encoded data removed]",
            "text/plain": [
              "<Figure size 1008x576 with 1 Axes>"
            ]
          },
          "metadata": {},
          "output_type": "display_data"
        }
      ],
      "source": [
        "import matplotlib.pyplot as plt\n",
        "fpr, tpr = roc_svm\n",
        "plt.figure(figsize = (14,8))\n",
        "plt.plot(fpr, tpr, color=\"red\")\n",
        "plt.plot([0, 1], [0, 1], color=\"black\", lw=2, linestyle='--')\n",
        "plt.xlim([0.0, 1.0])\n",
        "plt.ylim([0.0, 1.05])\n",
        "plt.xlabel('False Positive Rate')\n",
        "plt.ylabel('True Positive Rate')\n",
        "plt.title('Roc curve')\n",
        "plt.show()"
      ]
    },
    {
      "cell_type": "code",
      "execution_count": null,
      "metadata": {
        "colab": {
          "background_save": true,
          "base_uri": "https://localhost:8080/"
        },
        "id": "BNXAOZhgkKMu",
        "outputId": "d3d263ed-a46a-4674-b55f-548b6b3059e4"
      },
      "outputs": [
        {
          "name": "stderr",
          "output_type": "stream",
          "text": [
            "/usr/local/lib/python3.7/dist-packages/joblib/externals/loky/process_executor.py:705: UserWarning: A worker stopped while some jobs were given to the executor. This can be caused by a too short worker timeout or by a memory leak.\n",
            "  \"timeout or by a memory leak.\", UserWarning\n"
          ]
        }
      ],
      "source": [
        "from sklearn.model_selection import learning_curve\n",
        "\n",
        "train_sizes, train_scores, test_scores = \\\n",
        "    learning_curve(grid_svm.best_estimator_, X_train, y_train, cv=5, n_jobs=-1, \n",
        "                   scoring=\"roc_auc\", train_sizes=np.linspace(.1, 1.0, 10), random_state=1)"
      ]
    },
    {
      "cell_type": "code",
      "execution_count": null,
      "metadata": {
        "id": "-EcK0TA1lhAX"
      },
      "outputs": [],
      "source": [
        "def plot_learning_curve(X, y, train_sizes, train_scores, ylim=None):\n",
        "  plt.figure(figsize=(14, 8))\n",
        "  plt.title('Learning curve')\n",
        "  if ylim is not None:\n",
        "    plt.ylim(*ylim)\n",
        "  plt.xlabel(\"Training examples\")\n",
        "  plt.ylabel(\"Score\")\n",
        "\n",
        "  train_scores_std = np.std(train_scores, axis=1)\n",
        "  test_scores_mean = np.mean(test_scores, axis=1)\n",
        "  test_scores_std = np.std(test_scores, axis=1)\n",
        "  plt.grid()\n",
        "\n",
        "  plt.fill_between(train_sizes, test_scores_mean - test_scores_std,\n",
        "                     test_scores_mean + test_scores_std, alpha=0.1, color=\"g\")\n",
        "  plt.fill_between(train_sizes, test_scores_mean, 'o-', color='r', label = \"Training score\")\n",
        "  plt.plot(train_sizes, test_scores_mean, 'o-', color='g', label = \"Cross-validation score\")\n",
        "  plt.legend(loc=\"lower right\")\n",
        "  return plt\n",
        "    "
      ]
    },
    {
      "cell_type": "code",
      "execution_count": null,
      "metadata": {
        "colab": {
          "base_uri": "https://localhost:8080/",
          "height": 200
        },
        "id": "aknDUuOvvXLD",
        "outputId": "9d69e239-37a4-41d6-fc81-3879377c521f"
      },
      "outputs": [
        {
          "ename": "NameError",
          "evalue": "ignored",
          "output_type": "error",
          "traceback": [
            "\u001b[0;31m---------------------------------------------------------------------------\u001b[0m",
            "\u001b[0;31mNameError\u001b[0m                                 Traceback (most recent call last)",
            "\u001b[0;32m<ipython-input-1-cbde8c019078>\u001b[0m in \u001b[0;36m<module>\u001b[0;34m()\u001b[0m\n\u001b[0;32m----> 1\u001b[0;31m \u001b[0mplot_learning_curve\u001b[0m\u001b[0;34m(\u001b[0m\u001b[0mX_train\u001b[0m\u001b[0;34m,\u001b[0m \u001b[0my_train\u001b[0m\u001b[0;34m,\u001b[0m \u001b[0mtrain_sizes\u001b[0m\u001b[0;34m,\u001b[0m \u001b[0mtrain_scores\u001b[0m\u001b[0;34m,\u001b[0m \u001b[0mtest_scores\u001b[0m\u001b[0;34m,\u001b[0m \u001b[0mylim\u001b[0m\u001b[0;34m=\u001b[0m\u001b[0;34m(\u001b[0m\u001b[0;36m0.7\u001b[0m\u001b[0;34m,\u001b[0m \u001b[0;36m1.01\u001b[0m\u001b[0;34m)\u001b[0m\u001b[0;34m,\u001b[0m \u001b[0mfigsize\u001b[0m\u001b[0;34m=\u001b[0m\u001b[0;34m(\u001b[0m\u001b[0;36m14\u001b[0m\u001b[0;34m,\u001b[0m\u001b[0;36m6\u001b[0m\u001b[0;34m)\u001b[0m\u001b[0;34m)\u001b[0m\u001b[0;34m\u001b[0m\u001b[0;34m\u001b[0m\u001b[0m\n\u001b[0m\u001b[1;32m      2\u001b[0m \u001b[0mplt\u001b[0m\u001b[0;34m.\u001b[0m\u001b[0mshow\u001b[0m\u001b[0;34m(\u001b[0m\u001b[0;34m)\u001b[0m\u001b[0;34m\u001b[0m\u001b[0;34m\u001b[0m\u001b[0m\n",
            "\u001b[0;31mNameError\u001b[0m: name 'plot_learning_curve' is not defined"
          ]
        }
      ],
      "source": [
        "plot_learning_curve(X_train, y_train, train_sizes, train_scores, test_scores, ylim=(0.7, 1.01), figsize=(14,6))\n",
        "plt.show()"
      ]
    },
    {
      "cell_type": "code",
      "execution_count": null,
      "metadata": {
        "id": "jatAqcZPyca0"
      },
      "outputs": [],
      "source": [
        "if grid_svm.predict == 1:\n",
        "  print(\"This statement is positive\")\n",
        "else:\n",
        "  print(\"This statement is negative\")"
      ]
    },
    {
      "cell_type": "code",
      "execution_count": null,
      "metadata": {
        "colab": {
          "base_uri": "https://localhost:8080/"
        },
        "id": "Y5GQ0mC5z8bB",
        "outputId": "1c5610c9-c146-4e2c-f4ee-5cbf963767e6"
      },
      "outputs": [
        {
          "data": {
            "text/plain": [
              "array([0])"
            ]
          },
          "execution_count": 58,
          "metadata": {},
          "output_type": "execute_result"
        }
      ],
      "source": [
        "grid_svm.predict([\" I wish you were here \"])"
      ]
    },
    {
      "cell_type": "code",
      "execution_count": null,
      "metadata": {
        "colab": {
          "base_uri": "https://localhost:8080/"
        },
        "id": "Czmj3RQ20Dxk",
        "outputId": "dd3b4cf8-1935-4977-da34-1dfc7027650f"
      },
      "outputs": [
        {
          "data": {
            "text/plain": [
              "array([1])"
            ]
          },
          "execution_count": 57,
          "metadata": {},
          "output_type": "execute_result"
        }
      ],
      "source": [
        "grid_svm.predict([\"You are an asshole\"])"
      ]
    },
    {
      "cell_type": "code",
      "execution_count": null,
      "metadata": {
        "id": "chnyiPMO0PZJ"
      },
      "outputs": [],
      "source": [
        ""
      ]
    }
  ],
  "metadata": {
    "colab": {
      "name": "train.ipynb",
      "provenance": [],
      "collapsed_sections": [],
      "include_colab_link": true
    },
    "kernelspec": {
      "display_name": "Python 3",
      "name": "python3"
    },
    "language_info": {
      "name": "python"
    }
  },
  "nbformat": 4,
  "nbformat_minor": 0
}